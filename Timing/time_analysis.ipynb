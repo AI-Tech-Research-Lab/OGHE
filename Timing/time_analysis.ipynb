{
 "cells": [
  {
   "cell_type": "code",
   "execution_count": null,
   "metadata": {},
   "outputs": [],
   "source": [
    "import numpy as np\n",
    "import pandas as pd\n",
    "import glob"
   ]
  },
  {
   "cell_type": "markdown",
   "metadata": {},
   "source": [
    "# Case single"
   ]
  },
  {
   "cell_type": "code",
   "execution_count": null,
   "metadata": {},
   "outputs": [],
   "source": [
    "single_time_files = glob.glob('S_*.txt')\n",
    "multiple_time_files = glob.glob('M_*.txt') + ['HundredSamplesTime.txt']"
   ]
  },
  {
   "cell_type": "code",
   "execution_count": null,
   "metadata": {},
   "outputs": [],
   "source": [
    "for file_path in single_time_files:\n",
    "    print(f\"########################################\")\n",
    "    print(f\"File path: {file_path}\")\n",
    "    df = pd.read_csv(file_path, header=None)\n",
    "    print(f\"Mean of times: {df.iloc[:, 0].mean():.3f} +- {df.iloc[:, 0].std():.2f} s\")"
   ]
  },
  {
   "cell_type": "code",
   "execution_count": null,
   "metadata": {},
   "outputs": [],
   "source": [
    "for file_path in multiple_time_files:\n",
    "    print(f\"########################################\")\n",
    "    print(f\"File path: {file_path}\")\n",
    "    df = pd.read_csv(file_path, header=None)\n",
    "    print(f\"Mean of times: {df.iloc[:, 0].mean():.3f} +- {df.iloc[:, 0].std():.2f} s\")"
   ]
  }
 ],
 "metadata": {
  "kernelspec": {
   "display_name": "Python 3",
   "language": "python",
   "name": "python3"
  },
  "language_info": {
   "codemirror_mode": {
    "name": "ipython",
    "version": 3
   },
   "file_extension": ".py",
   "mimetype": "text/x-python",
   "name": "python",
   "nbconvert_exporter": "python",
   "pygments_lexer": "ipython3",
   "version": "3.10.12"
  }
 },
 "nbformat": 4,
 "nbformat_minor": 2
}
